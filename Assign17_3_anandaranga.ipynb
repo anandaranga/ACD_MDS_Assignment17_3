{
 "cells": [
  {
   "cell_type": "markdown",
   "metadata": {},
   "source": [
    "## Assignment 17.3\n",
    "### ACD MDS (Mar 2018 batch) Student: K. Anandaranga"
   ]
  },
  {
   "cell_type": "code",
   "execution_count": 1,
   "metadata": {},
   "outputs": [],
   "source": [
    "#Two balls are drawn at random in succession without replacement from an urn containing 4 red balls and 6 black balls.\n",
    "#Find the probabilities of all the possible outcomes."
   ]
  },
  {
   "cell_type": "code",
   "execution_count": 25,
   "metadata": {},
   "outputs": [],
   "source": [
    "import numpy as np\n",
    "import pandas as pd\n",
    "import matplotlib.pyplot as plt\n",
    "%matplotlib inline"
   ]
  },
  {
   "cell_type": "code",
   "execution_count": 27,
   "metadata": {},
   "outputs": [
    {
     "data": {
      "text/plain": [
       "[<matplotlib.lines.Line2D at 0x220ed766048>]"
      ]
     },
     "execution_count": 27,
     "metadata": {},
     "output_type": "execute_result"
    },
    {
     "data": {
      "image/png": "[encoded data removed]",
      "text/plain": [
       "<matplotlib.figure.Figure at 0x220ed707630>"
      ]
     },
     "metadata": {},
     "output_type": "display_data"
    }
   ],
   "source": [
    "# The possible outcomes are: Red-Red (RR), Red-Black(RB), Black-Red (BR), Black-Black(BB)\n",
    "\n",
    "Total_R = 4\n",
    "Total_B = 6\n",
    "Total = Total_R + Total_B\n",
    "\n",
    "# case 1: R-R\n",
    "Prob_1 = (Total_R/Total)*(Total_R - 1)/(Total - 1)  # subtract 1 since it is without replacement\n",
    "# case 2: R-B\n",
    "Prob_2 = (Total_R/Total)*(Total_B)/(Total - 1)\n",
    "# case 3: B-R\n",
    "Prob_3 = (Total_B/Total)*(Total_R)/(Total - 1)\n",
    "# case 4: B-B\n",
    "Prob_4 = (Total_B/Total)*(Total_B -1)/(Total - 1)\n",
    "\n",
    "n = np.array([Prob_1,Prob_2,Prob_3,Prob_4])\n",
    "plt.plot(n)"
   ]
  },
  {
   "cell_type": "code",
   "execution_count": null,
   "metadata": {},
   "outputs": [],
   "source": []
  }
 ],
 "metadata": {
  "kernelspec": {
   "display_name": "Python 3",
   "language": "python",
   "name": "python3"
  },
  "language_info": {
   "codemirror_mode": {
    "name": "ipython",
    "version": 3
   },
   "file_extension": ".py",
   "mimetype": "text/x-python",
   "name": "python",
   "nbconvert_exporter": "python",
   "pygments_lexer": "ipython3",
   "version": "3.6.1"
  }
 },
 "nbformat": 4,
 "nbformat_minor": 2
}
